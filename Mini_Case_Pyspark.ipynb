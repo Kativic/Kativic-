{
  "cells": [
    {
      "cell_type": "markdown",
      "metadata": {
        "id": "view-in-github",
        "colab_type": "text"
      },
      "source": [
        "<a href=\"https://colab.research.google.com/github/Kativic/Kativic-/blob/main/Mini_Case_Pyspark.ipynb\" target=\"_parent\"><img src=\"https://colab.research.google.com/assets/colab-badge.svg\" alt=\"Open In Colab\"/></a>"
      ]
    },
    {
      "cell_type": "markdown",
      "metadata": {
        "id": "4cBJp6w1UhNr"
      },
      "source": [
        "Projeto: JumpStart\n",
        "\n",
        "Curso: Bootcamp Analista de Dados\n",
        "\n",
        "Data de entrega: 03 de Agosto de 2024\n",
        "\n",
        "Professor: Lucas\n",
        "\n",
        "Alunos: Katia Santos"
      ]
    },
    {
      "cell_type": "markdown",
      "metadata": {
        "id": "-FhzYzpzU0z5"
      },
      "source": [
        "## **Solicitação**\n",
        "\n",
        "\n",
        "Vocês devem escolher uma questão do case pandas, refazer utilizando pyspark e fazer as seguintes análises:\n",
        "\n",
        "\n",
        "1.   Qual ferramenta foi mais performática?\n",
        "2.   Existiu diferença de performance entre spark.sql e pyspark puro?\n",
        "3.   É possível otimizar os arquivos? Utilizando outro formato, criando particionamento e etc.\n",
        "4.  Faça uma pesquisa sobre particionamento no pyspark e como isso pode impactar na performance para análise de bigdata.\n",
        "\n",
        "\n",
        "Fiquem à vontade para explorar a criatividade, utilizar arquivos maiores do imdb e testar se o pyspark viabiliza o uso."
      ]
    },
    {
      "cell_type": "markdown",
      "metadata": {
        "id": "EXTaN1xYU9Bq"
      },
      "source": [
        " ## **Instalação de bibliotecas e importação de módulos**"
      ]
    },
    {
      "cell_type": "code",
      "execution_count": null,
      "metadata": {
        "colab": {
          "base_uri": "https://localhost:8080/"
        },
        "id": "Av8mF4HbUBQi",
        "outputId": "f373cc54-68d3-4f37-da2d-cd0554b4c4c7"
      },
      "outputs": [
        {
          "output_type": "stream",
          "name": "stdout",
          "text": [
            "Collecting pyspark\n",
            "  Downloading pyspark-3.5.1.tar.gz (317.0 MB)\n",
            "\u001b[2K     \u001b[90m━━━━━━━━━━━━━━━━━━━━━━━━━━━━━━━━━━━━━━━━\u001b[0m \u001b[32m317.0/317.0 MB\u001b[0m \u001b[31m3.8 MB/s\u001b[0m eta \u001b[36m0:00:00\u001b[0m\n",
            "\u001b[?25h  Preparing metadata (setup.py) ... \u001b[?25l\u001b[?25hdone\n",
            "Requirement already satisfied: py4j==0.10.9.7 in /usr/local/lib/python3.10/dist-packages (from pyspark) (0.10.9.7)\n",
            "Building wheels for collected packages: pyspark\n",
            "  Building wheel for pyspark (setup.py) ... \u001b[?25l\u001b[?25hdone\n",
            "  Created wheel for pyspark: filename=pyspark-3.5.1-py2.py3-none-any.whl size=317488490 sha256=832dbb9bbc9d45bf9450d9c817abb6a5e28463b7117a029588bf13cc20067152\n",
            "  Stored in directory: /root/.cache/pip/wheels/80/1d/60/2c256ed38dddce2fdd93be545214a63e02fbd8d74fb0b7f3a6\n",
            "Successfully built pyspark\n",
            "Installing collected packages: pyspark\n",
            "Successfully installed pyspark-3.5.1\n"
          ]
        }
      ],
      "source": [
        "%pip install pyspark"
      ]
    },
    {
      "cell_type": "code",
      "execution_count": null,
      "metadata": {
        "id": "7h8AjZCdUIO6"
      },
      "outputs": [],
      "source": [
        "from pyspark.sql import SparkSession\n",
        "import pyspark.sql.functions as F\n",
        "from pyspark.sql import SparkSession\n",
        "from pyspark.sql.types import IntegerType,FloatType,DoubleType"
      ]
    },
    {
      "cell_type": "code",
      "execution_count": null,
      "metadata": {
        "id": "CXG9RUy5UNQy"
      },
      "outputs": [],
      "source": [
        "spark = SparkSession.builder.appName('Spark').getOrCreate()"
      ]
    },
    {
      "cell_type": "markdown",
      "metadata": {
        "id": "zB-LYIkmXud9"
      },
      "source": [
        "## **Extração via PySpark**"
      ]
    },
    {
      "cell_type": "code",
      "execution_count": null,
      "metadata": {
        "colab": {
          "base_uri": "https://localhost:8080/"
        },
        "id": "FfOMSdMNBkQl",
        "outputId": "1602eb1f-2270-40a5-a3ea-ade43ba911e9"
      },
      "outputs": [
        {
          "name": "stdout",
          "output_type": "stream",
          "text": [
            "root\n",
            " |-- tconst: string (nullable = true)\n",
            " |-- titleType: string (nullable = true)\n",
            " |-- primaryTitle: string (nullable = true)\n",
            " |-- originalTitle: string (nullable = true)\n",
            " |-- isAdult: string (nullable = true)\n",
            " |-- startYear: string (nullable = true)\n",
            " |-- endYear: string (nullable = true)\n",
            " |-- runtimeMinutes: string (nullable = true)\n",
            " |-- genres: string (nullable = true)\n",
            "\n",
            "root\n",
            " |-- tconst: string (nullable = true)\n",
            " |-- averageRating: string (nullable = true)\n",
            " |-- numVotes: string (nullable = true)\n",
            "\n"
          ]
        }
      ],
      "source": [
        "# Inicializar Spark\n",
        "spark = SparkSession.builder.appName(\"IMDb Analysis\").getOrCreate()\n",
        "\n",
        "# Carregar title.basics.tsv.gz\n",
        "title_basics = spark.read.option(\"header\", \"true\").option(\"sep\", \"\\t\").csv(\"/content/title.basics.tsv\")\n",
        "\n",
        "# Carregar title.ratings.tsv.gz\n",
        "title_ratings = spark.read.option(\"header\", \"true\").option(\"sep\", \"\\t\").csv(\"/content/title.ratings.tsv\")\n",
        "\n",
        "# Exibir esquemas\n",
        "title_basics.printSchema()\n",
        "title_ratings.printSchema()\n"
      ]
    },
    {
      "cell_type": "markdown",
      "metadata": {
        "id": "07S3_5a8bLcn"
      },
      "source": [
        "## **Pré-Análise via PySpark**"
      ]
    },
    {
      "cell_type": "code",
      "execution_count": null,
      "metadata": {
        "colab": {
          "base_uri": "https://localhost:8080/"
        },
        "id": "hUzDYBE7dlW3",
        "outputId": "5d0e03fc-515f-4533-a710-1e67a2539ef8"
      },
      "outputs": [
        {
          "name": "stdout",
          "output_type": "stream",
          "text": [
            "+---+---------+---------+--------------------+--------------------+-------+---------+-------+--------------+--------------------+---------------+----------+---------------+----------+\n",
            "|_c0|   tconst|titleType|        primaryTitle|       originalTitle|isAdult|startYear|endYear|runtimeMinutes|              genres|averageRating_x|numVotes_x|averageRating_y|numVotes_y|\n",
            "+---+---------+---------+--------------------+--------------------+-------+---------+-------+--------------+--------------------+---------------+----------+---------------+----------+\n",
            "|  0|tt0000009|    movie|          Miss Jerry|          Miss Jerry|      0|     1894|     \\N|            45|             Romance|            5.4|     212.0|            5.4|     212.0|\n",
            "|  1|tt0000147|    movie|The Corbett-Fitzs...|The Corbett-Fitzs...|      0|     1897|     \\N|           100|Documentary,News,...|            5.2|     517.0|            5.2|     517.0|\n",
            "|  3|tt0000574|    movie|The Story of the ...|The Story of the ...|      0|     1906|     \\N|            70|Action,Adventure,...|            6.0|     914.0|            6.0|     914.0|\n",
            "|  4|tt0000591|    movie|    The Prodigal Son|   L'enfant prodigue|      0|     1907|     \\N|            90|               Drama|            5.5|      26.0|            5.5|      26.0|\n",
            "|  8|tt0000679|    movie|The Fairylogue an...|The Fairylogue an...|      0|     1908|     \\N|           120|   Adventure,Fantasy|            5.2|      74.0|            5.2|      74.0|\n",
            "+---+---------+---------+--------------------+--------------------+-------+---------+-------+--------------+--------------------+---------------+----------+---------------+----------+\n",
            "only showing top 5 rows\n",
            "\n"
          ]
        }
      ],
      "source": [
        "# Mostrar o DataFrame\n",
        "df.show(5)"
      ]
    },
    {
      "cell_type": "code",
      "execution_count": null,
      "metadata": {
        "colab": {
          "base_uri": "https://localhost:8080/"
        },
        "id": "KcbUGd9vdVBB",
        "outputId": "0240a1c9-3ecc-47e0-e0a7-69ab804d3970"
      },
      "outputs": [
        {
          "name": "stdout",
          "output_type": "stream",
          "text": [
            "+---+---------+---------+--------------------+--------------------+-------+---------+--------------+--------------------+---------------+----------+\n",
            "|_c0|   tconst|titleType|        primaryTitle|       originalTitle|isAdult|startYear|runtimeMinutes|              genres|averageRating_y|numVotes_y|\n",
            "+---+---------+---------+--------------------+--------------------+-------+---------+--------------+--------------------+---------------+----------+\n",
            "|  0|tt0000009|    movie|          Miss Jerry|          Miss Jerry|      0|     1894|            45|             Romance|            5.4|     212.0|\n",
            "|  1|tt0000147|    movie|The Corbett-Fitzs...|The Corbett-Fitzs...|      0|     1897|           100|Documentary,News,...|            5.2|     517.0|\n",
            "|  3|tt0000574|    movie|The Story of the ...|The Story of the ...|      0|     1906|            70|Action,Adventure,...|            6.0|     914.0|\n",
            "|  4|tt0000591|    movie|    The Prodigal Son|   L'enfant prodigue|      0|     1907|            90|               Drama|            5.5|      26.0|\n",
            "|  8|tt0000679|    movie|The Fairylogue an...|The Fairylogue an...|      0|     1908|           120|   Adventure,Fantasy|            5.2|      74.0|\n",
            "+---+---------+---------+--------------------+--------------------+-------+---------+--------------+--------------------+---------------+----------+\n",
            "only showing top 5 rows\n",
            "\n"
          ]
        }
      ],
      "source": [
        "# Excluir a coluna \"endYear\"\n",
        "df = df.drop(\"endYear\", 'averageRating_x','numVotes_x')\n",
        "\n",
        "df.show(5)"
      ]
    },
    {
      "cell_type": "code",
      "execution_count": null,
      "metadata": {
        "colab": {
          "base_uri": "https://localhost:8080/"
        },
        "id": "jmouclYTdquG",
        "outputId": "20bbae60-b1cf-4f70-b409-479e33bdf71c"
      },
      "outputs": [
        {
          "name": "stdout",
          "output_type": "stream",
          "text": [
            "root\n",
            " |-- _c0: string (nullable = true)\n",
            " |-- tconst: string (nullable = true)\n",
            " |-- titleType: string (nullable = true)\n",
            " |-- primaryTitle: string (nullable = true)\n",
            " |-- originalTitle: string (nullable = true)\n",
            " |-- isAdult: string (nullable = true)\n",
            " |-- startYear: string (nullable = true)\n",
            " |-- runtimeMinutes: string (nullable = true)\n",
            " |-- genres: string (nullable = true)\n",
            " |-- averageRating_y: string (nullable = true)\n",
            " |-- numVotes_y: string (nullable = true)\n",
            "\n"
          ]
        }
      ],
      "source": [
        "# Visualisando os tipos da variáveis\n",
        "df.printSchema()"
      ]
    },
    {
      "cell_type": "code",
      "execution_count": null,
      "metadata": {
        "id": "hS8QQ6a8gjlp"
      },
      "outputs": [],
      "source": [
        "# Mudando para numéricos as colunas abaixo:\n",
        "df = df.withColumn('isAdult', F.col('isAdult').cast(IntegerType()))\\\n",
        "       .withColumn('startYear', F.col('startYear').cast(IntegerType()))\\\n",
        "       .withColumn('runtimeMinutes', F.col('runtimeMinutes').cast(FloatType()))\\\n",
        "       .withColumn('averageRating_y', F.col('averageRating_y').cast(FloatType()))\\\n",
        "       .withColumn('numVotes_y', F.col('numVotes_y').cast(FloatType()))"
      ]
    },
    {
      "cell_type": "code",
      "execution_count": null,
      "metadata": {
        "colab": {
          "base_uri": "https://localhost:8080/"
        },
        "id": "1fmZw72DhrK5",
        "outputId": "6a661870-0920-48f9-85cb-2b7aa3466908"
      },
      "outputs": [
        {
          "name": "stdout",
          "output_type": "stream",
          "text": [
            "root\n",
            " |-- _c0: string (nullable = true)\n",
            " |-- tconst: string (nullable = true)\n",
            " |-- titleType: string (nullable = true)\n",
            " |-- primaryTitle: string (nullable = true)\n",
            " |-- originalTitle: string (nullable = true)\n",
            " |-- isAdult: integer (nullable = true)\n",
            " |-- startYear: integer (nullable = true)\n",
            " |-- runtimeMinutes: float (nullable = true)\n",
            " |-- genres: string (nullable = true)\n",
            " |-- averageRating_y: float (nullable = true)\n",
            " |-- numVotes_y: float (nullable = true)\n",
            "\n"
          ]
        }
      ],
      "source": [
        "# Visualisando os tipos da variáveis\n",
        "df.printSchema()"
      ]
    },
    {
      "cell_type": "markdown",
      "metadata": {
        "id": "DeEW8j2yieXW"
      },
      "source": [
        "## **Analise de Perfomance**"
      ]
    },
    {
      "cell_type": "markdown",
      "metadata": {
        "id": "dsN67eJgF-7Y"
      },
      "source": [
        "\n",
        "\n",
        "*   **Refazer questão do Pandas utilizando Pyspark**\n",
        "\n",
        "\n",
        " **Questão escolhida:** Qual o filme com maior tempo de duração? Calcule os percentis considerando o tempo de duração.\n",
        "\n",
        "\n",
        "\n",
        "\n",
        "\n",
        "\n",
        "\n",
        "\n",
        "\n"
      ]
    },
    {
      "cell_type": "code",
      "execution_count": null,
      "metadata": {
        "colab": {
          "base_uri": "https://localhost:8080/"
        },
        "id": "iD_HQTKQFS0M",
        "outputId": "89bc981a-50d3-4e07-baf0-a23f8d862782"
      },
      "outputs": [
        {
          "name": "stdout",
          "output_type": "stream",
          "text": [
            "| tconst     |   originalTitle |   startYear |   runtimeMinutes | genres    |   Tempo_Execucao_Com_Pandas |\n",
            "|:-----------|----------------:|------------:|-----------------:|:----------|----------------------------:|\n",
            "| tt29302558 |             100 |        2019 |            59460 | Animation |                         1.6 |\n"
          ]
        }
      ],
      "source": [
        "import pandas as pd\n",
        "import time\n",
        "\n",
        "# Carregar o arquivo CSV usando Pandas\n",
        "start_time = time.time()\n",
        "df_pandas = pd.read_csv(\"/content/imdb_arquivo.csv\", delimiter='\\t')\n",
        "\n",
        "# Selecionar apenas as colunas desejadas\n",
        "df_pandas = df_pandas[['tconst', 'originalTitle', 'startYear', 'runtimeMinutes', 'genres']]\n",
        "\n",
        "# Encontrar o filme com maior tempo de duração\n",
        "filme_maior_tempo = df_pandas.loc[df_pandas['runtimeMinutes'].idxmax()]\n",
        "\n",
        "# Tempo de execução com Pandas\n",
        "tempo_execucao_pandas = time.time() - start_time\n",
        "\n",
        "# Criar DataFrame com o filme de maior duração e o tempo de execução\n",
        "df_resultado = pd.DataFrame([filme_maior_tempo])\n",
        "df_resultado['Tempo_Execucao_Com_Pandas'] = round(tempo_execucao_pandas, 2)\n",
        "\n",
        "# Exibir o DataFrame em formato de tabela\n",
        "print(df_resultado.to_markdown(index=False))\n"
      ]
    },
    {
      "cell_type": "code",
      "execution_count": null,
      "metadata": {
        "colab": {
          "base_uri": "https://localhost:8080/"
        },
        "id": "ZPRp7GRvDlbl",
        "outputId": "26405c57-f3a3-46e5-b079-aebb9667f939"
      },
      "outputs": [
        {
          "name": "stdout",
          "output_type": "stream",
          "text": [
            "Percentis do tempo de duração:\n",
            "0.25     77.0\n",
            "0.50     90.0\n",
            "0.75    100.0\n",
            "Name: runtimeMinutes, dtype: float64\n"
          ]
        }
      ],
      "source": [
        "# Calcular os percentis do tempo de duração\n",
        "percentis = df_pandas['runtimeMinutes'].quantile([0.25, 0.5, 0.75])\n",
        "print(f\"Percentis do tempo de duração:\\n{percentis}\")"
      ]
    },
    {
      "cell_type": "code",
      "execution_count": null,
      "metadata": {
        "colab": {
          "base_uri": "https://localhost:8080/"
        },
        "id": "sJTtjIOJmnXb",
        "outputId": "f12f0ad1-2853-43bc-9f1a-df4b916536cb"
      },
      "outputs": [
        {
          "name": "stdout",
          "output_type": "stream",
          "text": [
            "Filme com maior tempo de duração:\n",
            "Row(tconst='tt29302558', originalTitle='100', startYear=2019, runtimeMinutes=59460, genres='Animation')\n",
            "Tempo de execução com PySpark: 5.33 segundos\n"
          ]
        }
      ],
      "source": [
        "import time\n",
        "import numpy as np\n",
        "from pyspark.sql.functions import col\n",
        "\n",
        "# Carregar o arquivo CSV com o delimitador de tabulação\n",
        "start_time = time.time()\n",
        "df_spark = spark.read.option(\"delimiter\", \"\\t\").csv(\"/content/imdb_arquivo.csv\", header=True, inferSchema=True)\n",
        "\n",
        "# Selecionar apenas as colunas desejadas\n",
        "df_spark = df_spark.select('tconst', 'originalTitle', 'startYear', 'runtimeMinutes', 'genres')\n",
        "\n",
        "# Encontrar o filme com maior tempo de duração\n",
        "filme_maior_tempo = df_spark.orderBy(col(\"runtimeMinutes\").desc()).first()\n",
        "\n",
        "# Tempo de execução com PySpark\n",
        "tempo_execucao_pyspark = time.time() - start_time\n",
        "\n",
        "# Resultados\n",
        "print(f\"Filme com maior tempo de duração:\\n{filme_maior_tempo}\")\n",
        "print(f\"Tempo de execução com PySpark: {round(tempo_execucao_pyspark, 2)} segundos\")"
      ]
    },
    {
      "cell_type": "code",
      "execution_count": null,
      "metadata": {
        "colab": {
          "base_uri": "https://localhost:8080/"
        },
        "id": "AKolFdg7GxeB",
        "outputId": "3362b608-9c10-4f93-c8d9-c3cbdc8b25fc"
      },
      "outputs": [
        {
          "name": "stdout",
          "output_type": "stream",
          "text": [
            "Percentis do tempo de duração:\n",
            "[ 74.  89. 100.]\n"
          ]
        }
      ],
      "source": [
        "# Calcular os percentis do tempo de duração\n",
        "runtime_minutes = df_spark.select(\"runtimeMinutes\").rdd.flatMap(lambda x: x).collect()\n",
        "percentis = np.percentile(runtime_minutes, [25, 50, 75])\n",
        "print(f\"Percentis do tempo de duração:\\n{percentis}\")"
      ]
    },
    {
      "cell_type": "markdown",
      "metadata": {
        "id": "x6IlMABCw6VC"
      },
      "source": [
        "* **Comparação de Perfomance - Usando spark.sql**"
      ]
    },
    {
      "cell_type": "code",
      "execution_count": null,
      "metadata": {
        "colab": {
          "base_uri": "https://localhost:8080/"
        },
        "id": "V1rSZMqcH4DR",
        "outputId": "dfc4af4c-c32e-4724-ef48-b7076d9ee02a"
      },
      "outputs": [
        {
          "name": "stdout",
          "output_type": "stream",
          "text": [
            "+--------------------+-------------+\n",
            "|        primaryTitle|averageRating|\n",
            "+--------------------+-------------+\n",
            "|             A Lucia|          9.9|\n",
            "|       Cynthia Nixon|          9.9|\n",
            "|          Emma Samms|          9.9|\n",
            "|          Bea Arthur|          9.9|\n",
            "|       The Whirlpool|          9.9|\n",
            "|         Sheryl Crow|          9.9|\n",
            "|     Rosie O'Donnell|          9.9|\n",
            "|     Toss My Salad 4|          9.9|\n",
            "|   The Hitter Awards|          9.9|\n",
            "|Making of Sash! W...|          9.9|\n",
            "+--------------------+-------------+\n",
            "\n",
            "Tempo de execução (spark.sql): 8.585661888122559 segundos\n"
          ]
        }
      ],
      "source": [
        "# Criar Views Temporárias\n",
        "title_basics.createOrReplaceTempView(\"title_basics\")\n",
        "title_ratings.createOrReplaceTempView(\"title_ratings\")\n",
        "\n",
        "# Consulta SQL\n",
        "import time\n",
        "start_time = time.time()\n",
        "result_sql = spark.sql(\"\"\"\n",
        "SELECT tb.primaryTitle, tr.averageRating\n",
        "FROM title_basics tb\n",
        "JOIN title_ratings tr ON tb.tconst = tr.tconst\n",
        "WHERE tb.startYear >= 2000\n",
        "ORDER BY tr.averageRating DESC\n",
        "LIMIT 10\n",
        "\"\"\")\n",
        "result_sql.show()\n",
        "end_time = time.time()\n",
        "print(f\"Tempo de execução (spark.sql): {end_time - start_time} segundos\")"
      ]
    },
    {
      "cell_type": "markdown",
      "metadata": {
        "id": "9Qb1aZpBIPUo"
      },
      "source": [
        "* **Usando Apenas Pyspark**"
      ]
    },
    {
      "cell_type": "code",
      "execution_count": null,
      "metadata": {
        "colab": {
          "base_uri": "https://localhost:8080/"
        },
        "id": "oLESFs9fINaa",
        "outputId": "e6a922bc-a5a6-4cdb-e241-1a9f4c6a6dfe"
      },
      "outputs": [
        {
          "name": "stdout",
          "output_type": "stream",
          "text": [
            "+--------------------+-------------+\n",
            "|        primaryTitle|averageRating|\n",
            "+--------------------+-------------+\n",
            "|             A Lucia|          9.9|\n",
            "|       Cynthia Nixon|          9.9|\n",
            "|          Emma Samms|          9.9|\n",
            "|          Bea Arthur|          9.9|\n",
            "|       The Whirlpool|          9.9|\n",
            "|         Sheryl Crow|          9.9|\n",
            "|     Rosie O'Donnell|          9.9|\n",
            "|     Toss My Salad 4|          9.9|\n",
            "|   The Hitter Awards|          9.9|\n",
            "|Making of Sash! W...|          9.9|\n",
            "+--------------------+-------------+\n",
            "\n",
            "Tempo de execução (PySpark puro): 7.884453773498535 segundos\n"
          ]
        }
      ],
      "source": [
        "# Consulta PySpark Puro\n",
        "start_time = time.time()\n",
        "result_pyspark = title_basics.join(title_ratings, title_basics.tconst == title_ratings.tconst) \\\n",
        "    .filter(title_basics.startYear >= 2000) \\\n",
        "    .select(\"primaryTitle\", \"averageRating\") \\\n",
        "    .orderBy(\"averageRating\", ascending=False) \\\n",
        "    .limit(10)\n",
        "result_pyspark.show()\n",
        "end_time = time.time()\n",
        "print(f\"Tempo de execução (PySpark puro): {end_time - start_time} segundos\")\n"
      ]
    },
    {
      "cell_type": "markdown",
      "metadata": {
        "id": "nrEwEwBoIlJp"
      },
      "source": [
        "## **Otimazação dos Arquivos**"
      ]
    },
    {
      "cell_type": "code",
      "execution_count": null,
      "metadata": {
        "id": "79ptXjKCIrZP"
      },
      "outputs": [],
      "source": [
        "# Salvar em Parquet\n",
        "title_basics.write.parquet(\"path/to/title_basics.parquet\")\n",
        "title_ratings.write.parquet(\"path/to/title_ratings.parquet\")\n",
        "\n",
        "# Carregar dados em Parquet\n",
        "title_basics_parquet = spark.read.parquet(\"path/to/title_basics.parquet\")\n",
        "title_ratings_parquet = spark.read.parquet(\"path/to/title_ratings.parquet\")\n"
      ]
    },
    {
      "cell_type": "code",
      "execution_count": null,
      "metadata": {
        "id": "0TB2bUqWI3Hg"
      },
      "outputs": [],
      "source": [
        "# Particionar os dados por ano de início\n",
        "title_basics.write.partitionBy(\"startYear\").parquet(\"path/to/partitioned/title_basics.parquet\")\n"
      ]
    },
    {
      "cell_type": "markdown",
      "metadata": {
        "id": "ACsRxGNIO2BT"
      },
      "source": [
        "## **Explorando Arquivos Maiores**"
      ]
    },
    {
      "cell_type": "code",
      "execution_count": null,
      "metadata": {
        "colab": {
          "base_uri": "https://localhost:8080/"
        },
        "id": "-GsOpQyNPjsE",
        "outputId": "6be6c91d-d32b-4a15-bc87-8669214faeef"
      },
      "outputs": [
        {
          "output_type": "stream",
          "name": "stdout",
          "text": [
            "root\n",
            " |-- tconst: string (nullable = true)\n",
            " |-- ordering: string (nullable = true)\n",
            " |-- nconst: string (nullable = true)\n",
            " |-- category: string (nullable = true)\n",
            " |-- job: string (nullable = true)\n",
            " |-- characters: string (nullable = true)\n",
            "\n"
          ]
        }
      ],
      "source": [
        "spark = SparkSession.builder.appName(\"IMDb Analysis\").getOrCreate()\n",
        "\n",
        "# Carregar title.principals.tsv.gz\n",
        "title_principals = spark.read.option(\"header\", \"true\").option(\"sep\", \"\\t\").csv(\"/content/drive/MyDrive/IMDB/title.principals.tsv\")\n",
        "\n",
        "# Exibir esquema\n",
        "title_principals.printSchema()\n"
      ]
    },
    {
      "cell_type": "code",
      "execution_count": null,
      "metadata": {
        "colab": {
          "background_save": true
        },
        "id": "5aFRVeOOO9Sx",
        "outputId": "19a4c0a5-cd27-4e41-c544-b7d53c02f695"
      },
      "outputs": [
        {
          "name": "stdout",
          "output_type": "stream",
          "text": [
            "+---------+--------+---------+---------------+--------------------+----------+\n",
            "|   tconst|ordering|   nconst|       category|                 job|characters|\n",
            "+---------+--------+---------+---------------+--------------------+----------+\n",
            "|tt0000001|       1|nm1588970|           self|                  \\N|  [\"Self\"]|\n",
            "|tt0000001|       2|nm0005690|       director|                  \\N|        \\N|\n",
            "|tt0000001|       3|nm0005690|       producer|            producer|        \\N|\n",
            "|tt0000001|       4|nm0374658|cinematographer|director of photo...|        \\N|\n",
            "|tt0000002|       1|nm0721526|       director|                  \\N|        \\N|\n",
            "|tt0000002|       2|nm1335271|       composer|                  \\N|        \\N|\n",
            "|tt0000003|       1|nm0721526|       director|                  \\N|        \\N|\n",
            "|tt0000003|       2|nm1770680|       producer|            producer|        \\N|\n",
            "|tt0000003|       3|nm0721526|       producer|            producer|        \\N|\n",
            "|tt0000003|       4|nm1335271|       composer|                  \\N|        \\N|\n",
            "+---------+--------+---------+---------------+--------------------+----------+\n",
            "only showing top 10 rows\n",
            "\n"
          ]
        }
      ],
      "source": [
        "# Mostrar os primeiros registros\n",
        "title_principals.show(10)"
      ]
    },
    {
      "cell_type": "markdown",
      "source": [
        "## **Medir Tempo Processamento**"
      ],
      "metadata": {
        "id": "-S0I4m7AwYyY"
      }
    },
    {
      "cell_type": "code",
      "execution_count": null,
      "metadata": {
        "colab": {
          "base_uri": "https://localhost:8080/"
        },
        "id": "8z0WJY6PRZXQ",
        "outputId": "32e61ce0-f963-4df6-ba19-a0c9c2c02bc8"
      },
      "outputs": [
        {
          "name": "stdout",
          "output_type": "stream",
          "text": [
            "Número de registros: 87170607\n",
            "Tempo de execução: 1268.6000428199768 segundos\n"
          ]
        }
      ],
      "source": [
        "import time\n",
        "\n",
        "# Contar o número de registros\n",
        "start_time = time.time()\n",
        "num_records = title_principals.count()\n",
        "end_time = time.time()\n",
        "\n",
        "# Calcular o tempo de execução e arredondar para 2 casas decimais\n",
        "execution_time = round(end_time - start_time, 2)\n",
        "\n",
        "print(f\"Número de registros: {num_records}\")\n",
        "print(f\"Tempo de execução: {execution_time } segundos\")\n"
      ]
    },
    {
      "cell_type": "code",
      "execution_count": null,
      "metadata": {
        "colab": {
          "base_uri": "https://localhost:8080/"
        },
        "id": "k2GHJg1oTCD2",
        "outputId": "960d76a3-6622-40e8-f27e-24475a9927f9"
      },
      "outputs": [
        {
          "output_type": "stream",
          "name": "stdout",
          "text": [
            "+-------+---------+------------------+---------+--------+------------------+----------+\n",
            "|summary|   tconst|          ordering|   nconst|category|               job|characters|\n",
            "+-------+---------+------------------+---------+--------+------------------+----------+\n",
            "|  count| 87170607|          87170607| 87170607|87170607|          87170607|  87170607|\n",
            "|   mean|     NULL|7.0031087198922455|     NULL|    NULL|1.3199999999999998|      NULL|\n",
            "| stddev|     NULL| 5.147614635198217|     NULL|    NULL|0.7155417527999327|      NULL|\n",
            "|    min|tt0000001|                 1|nm0000001|   actor|\"A Box in Town\" by|   [\"!CF\"]|\n",
            "|    max|tt9916880|                 9|nm9993718|  writer|          écrivain|        \\N|\n",
            "+-------+---------+------------------+---------+--------+------------------+----------+\n",
            "\n",
            "Tempo de execução: 1706.139799118042 segundos\n"
          ]
        }
      ],
      "source": [
        "import time\n",
        "# Exibir estatísticas descritivas\n",
        "start_time = time.time()\n",
        "title_principals.describe().show()\n",
        "end_time = time.time()\n",
        "\n",
        "# Calcular o tempo de execução e arredondar para 2 casas decimais\n",
        "execution_time = round(end_time - start_time, 2)\n",
        "\n",
        "print(f\"Tempo de execução: {execution_time} segundos\")"
      ]
    },
    {
      "cell_type": "markdown",
      "source": [
        "* **Consulta com Pyspark Puro e spark.sql**"
      ],
      "metadata": {
        "id": "nJ7H6kifwRbX"
      }
    },
    {
      "cell_type": "code",
      "source": [
        "# Consulta simples Pyspark\n",
        "\n",
        "import time\n",
        "\n",
        "# Filtrar dados de uma categoria específica e contar o número de registros\n",
        "start_time = time.time()\n",
        "actors_count = title_principals.filter(title_principals.category == \"actor\").count()\n",
        "end_time = time.time()\n",
        "\n",
        "# Calcular o tempo de execução e arredondar para 2 casas decimais\n",
        "execution_time = round(end_time - start_time, 2)\n",
        "\n",
        "print(f\"Número de atores: {actors_count}\")\n",
        "print(f\"Tempo de execução (PySpark puro): {execution_time} segundos\")\n"
      ],
      "metadata": {
        "colab": {
          "base_uri": "https://localhost:8080/"
        },
        "id": "A33ih_KmwKKA",
        "outputId": "517a80d7-73cc-4c1a-d079-08c027b98c61"
      },
      "execution_count": null,
      "outputs": [
        {
          "output_type": "stream",
          "name": "stdout",
          "text": [
            "Número de atores: 20884227\n",
            "Tempo de execução (PySpark puro): 146.43 segundos\n"
          ]
        }
      ]
    },
    {
      "cell_type": "code",
      "source": [
        "# Consulta simples Spark.SQL\n",
        "\n",
        "import time\n",
        "\n",
        "# Carrega o arquivo title.principals.tsv (certifique-se de que o caminho está correto)\n",
        "df_title_principals = spark.read.option(\"delimiter\", \"\\t\").option(\"header\", \"true\").csv(\"/content/drive/MyDrive/IMDB/title.principals.tsv\")\n",
        "\n",
        "# Registra o DataFrame como uma tabela temporária\n",
        "df_title_principals.createOrReplaceTempView(\"title_principals\")\n",
        "\n",
        "# Filtrar dados de uma categoria específica e contar o número de registros\n",
        "\n",
        "start_time = time.time()\n",
        "spark.sql(\"SELECT COUNT(*) FROM title_principals WHERE category = 'actor'\").show()\n",
        "end_time = time.time()\n",
        "\n",
        "# Calcular o tempo de execução e arredondar para 2 casas decimais\n",
        "execution_time = round(end_time - start_time, 2)\n",
        "\n",
        "print(f\"Número de atores: {actors_count}\")\n",
        "print(f\"Tempo de execução (spark.sql): {execution_time} segundos\")"
      ],
      "metadata": {
        "colab": {
          "base_uri": "https://localhost:8080/"
        },
        "id": "U_VEAZWAwQhX",
        "outputId": "21b38037-1539-4ef0-ccf0-ed8373d9b4af"
      },
      "execution_count": null,
      "outputs": [
        {
          "output_type": "stream",
          "name": "stdout",
          "text": [
            "+--------+\n",
            "|count(1)|\n",
            "+--------+\n",
            "|20884227|\n",
            "+--------+\n",
            "\n",
            "Número de atores: 20884227\n",
            "Tempo de execução (spark.sql): 125.16 segundos\n"
          ]
        }
      ]
    },
    {
      "cell_type": "markdown",
      "source": [
        "## **Otimização do Maior  Arquivo**"
      ],
      "metadata": {
        "id": "PIzvjjsXIjj2"
      }
    },
    {
      "cell_type": "code",
      "source": [
        "# Salvar a tabela em formato Parquet\n",
        "title_principals.write.parquet(\"path2/imdb_principals/title_principals.parquet\")\n",
        "\n",
        "# Carregar a tabela em formato Parquet\n",
        "title_principals_parquet = spark.read.parquet(\"path2/imdb_principals/title_principals.parquet\")\n"
      ],
      "metadata": {
        "id": "NuzV3MPI4Hbk"
      },
      "execution_count": null,
      "outputs": []
    },
    {
      "cell_type": "code",
      "source": [
        "# Particionar os dados por categoria\n",
        "title_principals.write.partitionBy(\"category\").parquet(\"path2/imdb_principals/partitioned/title_principals.parquet\")\n",
        "\n",
        "# Carregar dados particionados\n",
        "title_principals_partitioned = spark.read.parquet(\"path2/imdb_principals/partitioned/title_principals.parquet\")\n"
      ],
      "metadata": {
        "id": "uMoRZHnAMOkb"
      },
      "execution_count": null,
      "outputs": []
    },
    {
      "cell_type": "markdown",
      "source": [
        "* **Verificando o Impacto do particionamento**"
      ],
      "metadata": {
        "id": "LzCejZAQMhHg"
      }
    },
    {
      "cell_type": "code",
      "source": [
        "# Consulta em dados particionados, ver\n",
        "start_time = time.time()\n",
        "actors_count_partitioned = title_principals_partitioned.filter(title_principals_partitioned.category == 'actor').count()\n",
        "print(f\"Número de atores (dados particionados): {actors_count_partitioned}\")\n",
        "end_time = time.time()\n",
        "\n",
        "execution_time = round(end_time - start_time, 2)\n",
        "print(f\"Tempo de execução (dados particionados): {execution_time} segundos\")"
      ],
      "metadata": {
        "colab": {
          "base_uri": "https://localhost:8080/"
        },
        "id": "J-z47MzYMlqs",
        "outputId": "aa6a6304-ab70-4e50-c3a6-ec36779e5ab8"
      },
      "execution_count": null,
      "outputs": [
        {
          "output_type": "stream",
          "name": "stdout",
          "text": [
            "Número de atores (dados particionados): 20884227\n",
            "Tempo de execução (dados particionados): 1.75 segundos\n"
          ]
        }
      ]
    },
    {
      "cell_type": "markdown",
      "source": [
        "* **Percentual de melhoria**"
      ],
      "metadata": {
        "id": "y--eCuL_recG"
      }
    },
    {
      "cell_type": "code",
      "source": [
        "import matplotlib.pyplot as plt\n",
        "\n",
        "# Dados\n",
        "tempos = [125.16, 1.75]  # Tempo sem particionamento e com particionamento\n",
        "labels = ['Sem Particionamento', 'Com Particionamento']\n",
        "percentual_melhoria = 98.6\n",
        "\n",
        "# Plotar os tempos\n",
        "fig, ax = plt.subplots(figsize=(10, 6))\n",
        "\n",
        "bars = ax.bar(labels, tempos, color=['red', 'green'])\n",
        "ax.set_ylabel('Tempo de Execução (Segundos)')\n",
        "ax.set_title('Tempo de Execução com e Sem Particionamento')\n",
        "\n",
        "# Adicionar valores no gráfico\n",
        "for bar in bars:\n",
        "    yval = bar.get_height()\n",
        "    ax.text(bar.get_x() + bar.get_width()/2, yval + 2, round(yval, 2), ha='center', va='bottom')\n",
        "\n",
        "# Adicionar melhoria percentual como texto\n",
        "ax.text(0.5, 10, f'Redução Percentual: {percentual_melhoria}%', ha='center', va='bottom', fontsize=12, color='blue')\n",
        "\n",
        "plt.show()\n"
      ],
      "metadata": {
        "id": "gRBFNOHFro60",
        "outputId": "e3d116a4-e37b-42cd-a702-5837ab0b404f",
        "colab": {
          "base_uri": "https://localhost:8080/",
          "height": 545
        }
      },
      "execution_count": null,
      "outputs": [
        {
          "output_type": "display_data",
          "data": {
            "text/plain": [
              "<Figure size 1000x600 with 1 Axes>"
            ],
            "image/png": "[encoded data removed]"
          },
          "metadata": {}
        }
      ]
    },
    {
      "cell_type": "markdown",
      "source": [
        "## **Conclusão**\n",
        "\n",
        "\n",
        "\n",
        "*  Considerando conjunto de dados menores Pandas foi mais rápido (1.6 segundos) do que PySpark (5.33 segundos);\n",
        "*   Conforme analise realizada na documentação pyspark  e videos  no Youtube, Pyspark foi projetado para processar grandes volumes de dados distribuídos. No exemplo fornecido, PySpark foi mais lento para o conjunto de dados menor, mas é mais adequado para big data.\n",
        "* Existe uma ligeira diferença entre o uso de spark.sql e pyspark puro, segundo pesquisas pyspark tem a gerar um tempo menor de processamento, no entanto, a analise trouxe um resultado diferente do esperado.\n",
        "* O particionamento melhora a performance ao reduzir a quantidade de dados processados em cada operação. Isso é essencial para otimização em big data, conforme demonstrado pela redução do tempo de execução de 125.16 segundos para 1.75 segundos.Isso torna o processamento mais eficiente e rápido.\n",
        "\n",
        "**Fontes de Dados/Info :**\n",
        "\n",
        "\n",
        "> https://spark.apache.org/docs/latest/sql-data-sources-parquet.html#partitioning\n",
        "\n",
        "\n",
        "> \"https://www.youtube.com/watch?v=Y2m6S4oIbZ0\"\n",
        "\n",
        "\n",
        "> https://www.youtube.com/watch?v=L0JYz66ne18\n",
        "\n",
        "\n",
        "> \"https://datasets.imdbws.com/title.principals.tsv.gz\n",
        "\n",
        "> ChatGPT e Gemini\n",
        "\n",
        "\n",
        "\n",
        "\n",
        "\n",
        "\n",
        "\n"
      ],
      "metadata": {
        "id": "QP2vB3hcTJTT"
      }
    }
  ],
  "metadata": {
    "colab": {
      "provenance": [],
      "mount_file_id": "1zkRdkfPJ2twalr7mGdYe_cgISOLRuMd3",
      "authorship_tag": "ABX9TyPaFw/1rwJo6z6D/HjLDtYi",
      "include_colab_link": true
    },
    "kernelspec": {
      "display_name": "Python 3",
      "name": "python3"
    },
    "language_info": {
      "name": "python"
    }
  },
  "nbformat": 4,
  "nbformat_minor": 0
}